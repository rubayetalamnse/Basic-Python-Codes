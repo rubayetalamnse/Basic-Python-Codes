{
 "cells": [
  {
   "cell_type": "markdown",
   "id": "fe840a7f",
   "metadata": {},
   "source": [
    "<!DOCTYPE html>\n",
    "<html lang=\"en\">\n",
    "<head>\n",
    "    <meta charset=\"UTF-8\">\n",
    "    <meta http-equiv=\"X-UA-Compatible\" content=\"IE=edge\">\n",
    "    <meta name=\"viewport\" content=\"width=device-width, initial-scale=1.0\">\n",
    "    <title>Document</title>\n",
    "</head>\n",
    "<body>\n",
    "    <h2> What is class? </h2>\n",
    "<h4> Everything we see around us is object. Even I myself is an object.Every object has ---<br>\n",
    "    <ol> <li> Attributes: Height, weight,age,salary....etc </li>\n",
    "        <li> Beaviors : Talking, Walking, Dancing......etc </li>\n",
    "    </ol>\n",
    "<p> An object does something based on something it knows. Functions in oop are called <b>Methods.</b> All the objects that we see in real life, such as: Laptop, fan, bottle, mouse have been manufactured in some factory. Example: I have a phone - \"Samsung Galaxy M40\". A lot of people are using the same phone. Imagine that 5 million on people are currently using this phone. Now, we say it's samsung phone not korean phone. Because it doesn't matter where the phone has been manufactured, Even samsung can make this phone in BD.What really matters is where the phone was designed? We can it has designed in Samsung HeadQtr, in South Korea. This phone was designed million times but was designed only onece.</p>\n",
    "<b>Class = Design</b>\n",
    "We have to provide a design for which we will get one or multiple objects.<br>\n",
    "<b style= \"color:crimson; text-align: center;\">Object is the instance of a class!</b>\n",
    "<h3> Attributes = Variable <br>\n",
    "     Behaviors = Method = Functions </h3>\n",
    "</body>\n",
    "</html>"
   ]
  },
  {
   "cell_type": "code",
   "execution_count": 7,
   "id": "23ff98f4",
   "metadata": {},
   "outputs": [
    {
     "name": "stdout",
     "output_type": "stream",
     "text": [
      "<class '__main__.Computer'>\n"
     ]
    }
   ],
   "source": [
    "class Computer:   #our class\n",
    "    def config(self):  #our method\n",
    "        print(\"i5\",\"16gb\",\"1TB\",\"8th\") #what does our method do? Just prints a statment.\n",
    "        \n",
    "comp1 = Computer() #object\n",
    "comp2 = Computer() #another object\n",
    "print(type(comp1))"
   ]
  },
  {
   "cell_type": "markdown",
   "id": "1a12c863",
   "metadata": {},
   "source": [
    "str/int/float are inbuilt class. comp1 is my selfbuild class. <b> Self </b> is the object that we are passing into our method.\n",
    "We can't keep any class empty. if there's nothing to write the just write <b>pass</b>."
   ]
  },
  {
   "cell_type": "code",
   "execution_count": 8,
   "id": "024868c3",
   "metadata": {},
   "outputs": [
    {
     "name": "stdout",
     "output_type": "stream",
     "text": [
      "<class 'int'>\n"
     ]
    }
   ],
   "source": [
    "x = 2\n",
    "print(type(x))"
   ]
  },
  {
   "cell_type": "code",
   "execution_count": 9,
   "id": "6534e98b",
   "metadata": {},
   "outputs": [
    {
     "name": "stderr",
     "output_type": "stream",
     "text": [
      "UsageError: Invalid config statement: '()', should be `Class.trait = value`.\n"
     ]
    }
   ],
   "source": [
    "config()"
   ]
  },
  {
   "cell_type": "code",
   "execution_count": 10,
   "id": "7d126ec7",
   "metadata": {},
   "outputs": [
    {
     "name": "stdout",
     "output_type": "stream",
     "text": [
      "i5 16gb 1TB 8th\n",
      "i5 16gb 1TB 8th\n"
     ]
    }
   ],
   "source": [
    "Computer.config(comp1)\n",
    "Computer.config(comp2)"
   ]
  },
  {
   "cell_type": "markdown",
   "id": "4a65745f",
   "metadata": {},
   "source": [
    "<b> If you want to use a method, then we have to call the class name first. Here the method is config and <br>\n",
    "    class name is Computer. In a class there can be millions of object, so we have to state clearly about which object <br> \n",
    "we are talking about!</b>"
   ]
  },
  {
   "cell_type": "markdown",
   "id": "60f1de7d",
   "metadata": {},
   "source": [
    "Different object have different behavior. Now our object itself will call the method/function."
   ]
  },
  {
   "cell_type": "code",
   "execution_count": 11,
   "id": "c003033f",
   "metadata": {},
   "outputs": [
    {
     "name": "stdout",
     "output_type": "stream",
     "text": [
      "i5 16gb 1TB 8th\n",
      "i5 16gb 1TB 8th\n"
     ]
    }
   ],
   "source": [
    "comp1.config()\n",
    "comp2.config()"
   ]
  },
  {
   "cell_type": "code",
   "execution_count": 12,
   "id": "a41ed1cd",
   "metadata": {},
   "outputs": [
    {
     "data": {
      "text/plain": [
       "3"
      ]
     },
     "execution_count": 12,
     "metadata": {},
     "output_type": "execute_result"
    }
   ],
   "source": [
    "a =5\n",
    "a.bit_length()"
   ]
  },
  {
   "cell_type": "markdown",
   "id": "cf4087e0",
   "metadata": {},
   "source": [
    "<!DOCTYPE html>\n",
    "<html lang=\"en\">\n",
    "<head>\n",
    "    <meta charset=\"UTF-8\">\n",
    "    <meta http-equiv=\"X-UA-Compatible\" content=\"IE=edge\">\n",
    "    <meta name=\"viewport\" content=\"width=<device-width>, initial-scale=1.0\">\n",
    "    <title>Document</title>\n",
    "</head>\n",
    "<body>\n",
    "    <p>In the bit.length() function, we can see self. So this function is taking self. But in reality when we use this function, we are not passing self. Rather than a is an object which is being acted as a parameter. Self is the object here which is being passed into the function.</p>\n",
    "</body>\n",
    "</html>"
   ]
  },
  {
   "cell_type": "markdown",
   "id": "115bd392",
   "metadata": {},
   "source": [
    "<h2> __init__ function </h2>\n",
    "In other language there is a constructor in OOP. init does the same thing. For every object the init function will get called once. But we don't have to call the init function manually, it will be callede automatically."
   ]
  },
  {
   "cell_type": "code",
   "execution_count": 24,
   "id": "830bc0d7",
   "metadata": {},
   "outputs": [
    {
     "name": "stdout",
     "output_type": "stream",
     "text": [
      "OOP is interesting.\n",
      "OOP is interesting.\n"
     ]
    }
   ],
   "source": [
    "class Computer:\n",
    "    def __init__(self):\n",
    "        print(\"OOP is interesting.\")\n",
    "\n",
    "com1 = Computer()\n",
    "com2 = Computer()"
   ]
  },
  {
   "cell_type": "markdown",
   "id": "6956639b",
   "metadata": {},
   "source": [
    "here ---Computer() is the <b>constructor</b>."
   ]
  },
  {
   "cell_type": "code",
   "execution_count": 1,
   "id": "e35b2bae",
   "metadata": {},
   "outputs": [
    {
     "name": "stdout",
     "output_type": "stream",
     "text": [
      "Config is Core-i5 8\n",
      "Config is Core-i3 4\n"
     ]
    }
   ],
   "source": [
    "class Computer:\n",
    "    def __init__(self,cpu,ram):\n",
    "        self.cpu = cpu\n",
    "        self.ram = ram\n",
    "    \n",
    "    def config(self):\n",
    "        print(\"Config is\", self.cpu,self.ram)\n",
    "        #we are binding our data with every method.\n",
    "\n",
    "com1 = Computer('Core-i5',8) \n",
    "com2 = Computer('Core-i3',4)\n",
    "\n",
    "com1.config()\n",
    "com2.config()"
   ]
  },
  {
   "cell_type": "code",
   "execution_count": 10,
   "id": "d951ab2c",
   "metadata": {},
   "outputs": [
    {
     "name": "stdout",
     "output_type": "stream",
     "text": [
      "Type of my Bird is --Budgie\n",
      "My bird's name is--Goku\n"
     ]
    },
    {
     "data": {
      "text/plain": [
       "'Goku'"
      ]
     },
     "execution_count": 10,
     "metadata": {},
     "output_type": "execute_result"
    }
   ],
   "source": [
    "class Bird:\n",
    "    \"\"\"A simple attempt to model a bird.\"\"\"\n",
    "    def __init__(self,bird_type,name):\n",
    "        \"\"\"Initialize type and age attributes for the bird.\"\"\"\n",
    "        self.bird_type = bird_type\n",
    "        self.name= name\n",
    "    def fly(self):\n",
    "        print(f\"{self.name} can fly in the sky\")\n",
    "    def eat(self):\n",
    "        \n",
    "        print(f\"{self.name} can eat vitamin BLOCKS!\")\n",
    "\n",
    "#making an instance/object from the class----\n",
    "my_bird = Bird('Budgie','Goku')\n",
    "\n",
    "#using objects------\n",
    "print(f\"Type of my Bird is --{my_bird.bird_type}\")\n",
    "print(f\"My bird's name is--{my_bird.name}\")\n",
    "\n",
    "#accessing attributes---\n",
    "my_bird.name"
   ]
  },
  {
   "cell_type": "code",
   "execution_count": 12,
   "id": "ae0dba62",
   "metadata": {},
   "outputs": [
    {
     "data": {
      "text/plain": [
       "'Budgie'"
      ]
     },
     "execution_count": 12,
     "metadata": {},
     "output_type": "execute_result"
    }
   ],
   "source": [
    "#accessing attributes---\n",
    "my_bird.bird_type"
   ]
  },
  {
   "cell_type": "code",
   "execution_count": 13,
   "id": "decd0b46",
   "metadata": {},
   "outputs": [
    {
     "name": "stdout",
     "output_type": "stream",
     "text": [
      "Goku can fly in the sky\n"
     ]
    }
   ],
   "source": [
    "#calling methods---\n",
    "my_bird.fly()"
   ]
  },
  {
   "cell_type": "code",
   "execution_count": 15,
   "id": "1512ef8b",
   "metadata": {},
   "outputs": [
    {
     "name": "stdout",
     "output_type": "stream",
     "text": [
      "Goku can eat vitamin BLOCKS!\n"
     ]
    }
   ],
   "source": [
    "#calling methods---\n",
    "my_bird.eat()"
   ]
  },
  {
   "cell_type": "code",
   "execution_count": 21,
   "id": "bd431933",
   "metadata": {},
   "outputs": [
    {
     "name": "stdout",
     "output_type": "stream",
     "text": [
      "My first bird was a --Budgie\n",
      "My bird's name was--Riasa\n",
      "Riasa can fly in the sky\n",
      "\n",
      "Type of my Bird is --Budgie\n",
      "My bird's name is--Mikasa\n",
      "Mikasa can eat vitamin BLOCKS!\n"
     ]
    }
   ],
   "source": [
    "#creating multiple instance/objects---\n",
    "first_bird = Bird(\"Budgie\",\"Riasa\")\n",
    "\n",
    "print(f\"My first bird was a --{first_bird.bird_type}\")\n",
    "print(f\"My bird's name was--{first_bird.name}\")\n",
    "first_bird.fly()\n",
    "\n",
    "second_bird = Bird(\"Budgie\",\"Mikasa\")\n",
    "print(f\"\\nType of my Bird is --{second_bird.bird_type}\")\n",
    "print(f\"My bird's name is--{second_bird.name}\")\n",
    "second_bird.eat()"
   ]
  },
  {
   "cell_type": "markdown",
   "id": "a75c6afe",
   "metadata": {},
   "source": [
    "<h2> Exercises from --\"Python Crash Course by Eric Matthes (Chapter-9)\"</h2>"
   ]
  },
  {
   "cell_type": "markdown",
   "id": "81382487",
   "metadata": {},
   "source": [
    "<h3>9.1</h3>\n",
    "Make a class called `Restaurant`. The `__init__()` method for `Restaurant` should store two attributes: a `restaurant_name` and a `cuisine_type`. Make a method called `describe_restaurant()` that prints these two pieces of information, and a method called `open_restaurant()` that prints a message indicating that the restaurant is open.\n",
    "\n",
    "Make an instance called `restaurant` from your class. Print the two attributes individually, and then call both methods."
   ]
  },
  {
   "cell_type": "code",
   "execution_count": 31,
   "id": "bfb20fc9",
   "metadata": {
    "scrolled": true
   },
   "outputs": [
    {
     "name": "stdout",
     "output_type": "stream",
     "text": [
      "Showing our 2 attributes-restaurant_name & cuisine_type \n",
      "\n",
      "Last time we went to- The Food Engineering.\n",
      "We really enjoyed their Italian Cuisine.\n",
      "\n",
      "Calling methods: \n",
      "\n",
      "The restaurant near my home is-- The Food Engineering\n",
      "The cuisine type of the restaurant is---Italian Cuisine\n",
      "The Food Engineering is open now!\n"
     ]
    }
   ],
   "source": [
    "class Restaurant:\n",
    "    \n",
    "    def __init__(self,restaurant_name,cuisine_type):\n",
    "        self.restaurant_name = restaurant_name\n",
    "        self.cuisine_type = cuisine_type\n",
    "        \n",
    "    #making a method--\n",
    "    def describe_restaurant(self):\n",
    "        print(f\"The restaurant near my home is-- {self.restaurant_name}\")\n",
    "        print(f\"The cuisine type of the restaurant is---{self.cuisine_type}\")\n",
    "        \n",
    "    #making another method----\n",
    "    def open_restaurant(self):\n",
    "        print(f\"{self.restaurant_name} is open now!\")\n",
    "\n",
    "#make an instance(object)\n",
    "restaurant1 = Restaurant(\"The Food Engineering\",\"Italian Cuisine\")\n",
    "\n",
    "#using objects--\n",
    "print(\"Showing our 2 attributes-restaurant_name & cuisine_type \\n\")\n",
    "print(f\"Last time we went to- {restaurant1.restaurant_name}.\")\n",
    "print(f\"We really enjoyed their {restaurant1.cuisine_type}.\\n\")\n",
    "\n",
    "\n",
    "print(\"Calling methods: \\n\")\n",
    "#calling methods---\n",
    "restaurant1.describe_restaurant()\n",
    "restaurant1.open_restaurant()\n",
    "              "
   ]
  },
  {
   "cell_type": "markdown",
   "id": "cb3aa716",
   "metadata": {},
   "source": [
    "<h3>9.2</h3>\n",
    "Start with your class from Exercise 9-1. Create three different instances from the class, and call describe_restaurant() for each instance."
   ]
  },
  {
   "cell_type": "code",
   "execution_count": 33,
   "id": "8602dfdf",
   "metadata": {},
   "outputs": [
    {
     "name": "stdout",
     "output_type": "stream",
     "text": [
      "The restaurant near my home is-- The Food Engineering\n",
      "The cuisine type of the restaurant is---Italian Cuisine\n",
      "\n",
      "The restaurant near my home is-- Sultan's Dine\n",
      "The cuisine type of the restaurant is---Bangladeshi Cuisine\n",
      "\n",
      "The restaurant near my home is-- American Burger\n",
      "The cuisine type of the restaurant is---American Cuisine\n",
      "\n"
     ]
    }
   ],
   "source": [
    "class Restaurant:\n",
    "    \n",
    "    def __init__(self,restaurant_name,cuisine_type):\n",
    "        self.restaurant_name = restaurant_name\n",
    "        self.cuisine_type = cuisine_type\n",
    "        \n",
    "    #making a method--\n",
    "    def describe_restaurant(self):\n",
    "        print(f\"The restaurant near my home is-- {self.restaurant_name}\")\n",
    "        print(f\"The cuisine type of the restaurant is---{self.cuisine_type}\\n\")\n",
    "        \n",
    "    #making another method----\n",
    "    def open_restaurant(self):\n",
    "        print(f\"{self.restaurant_name} is open now!\")\n",
    "\n",
    "#make 3 instances(objects)---\n",
    "restaurant_x = Restaurant(\"The Food Engineering\",\"Italian Cuisine\")\n",
    "restaurant_y = Restaurant(\"Sultan's Dine\",\"Bangladeshi Cuisine\")\n",
    "restaurant_z = Restaurant(\"American Burger\",\"American Cuisine\")\n",
    "\n",
    "#call first method for each of the instances---\n",
    "restaurant_x.describe_restaurant()\n",
    "restaurant_y.describe_restaurant()\n",
    "restaurant_z.describe_restaurant()"
   ]
  },
  {
   "cell_type": "markdown",
   "id": "3b8957db",
   "metadata": {},
   "source": [
    "<h3>9.3</h3>\n",
    "Make a class called `User`. Create two attributes called `first_name` and `last_name`, and then create several other attributes that are typically stored in a user profile. Make a method called `describe_user()` that prints a summary of the user’s information. Make another method called `greet_user()` that prints a personalized greeting to the user.\n",
    "\n",
    "Create several instances representing different users, and call both methods for each user."
   ]
  },
  {
   "cell_type": "code",
   "execution_count": 1,
   "id": "b43e5fab",
   "metadata": {},
   "outputs": [
    {
     "name": "stdout",
     "output_type": "stream",
     "text": [
      "First Name: Rubayet\n",
      "Last Name: Alam\n",
      "email = rubayetalam.nse@gmail.com\n",
      "username = rubayet_al\n",
      "country = Bangladesh\n",
      "\n",
      "Welcom to Notion.\n",
      "\n",
      "First Name: Yeasin\n",
      "Last Name: Al Yeasa\n",
      "email = yeasin@yahoo.com\n",
      "username = yeasinGamerXlegend\n",
      "country = Bangladesh\n",
      "\n",
      "Welcom to Notion.\n",
      "\n"
     ]
    }
   ],
   "source": [
    "class User:\n",
    "    \n",
    "    #create 2 attribute called first_name and last_name and more:\n",
    "    def __init__(self,first_name,last_name, email,username,country):\n",
    "        self.first_name = first_name\n",
    "        self.last_name = last_name\n",
    "        self.email = email\n",
    "        self.username = username\n",
    "        self.country = country\n",
    "        \n",
    "    #create a method called descirbe_user that print's the summary of the user's information:\n",
    "    def describe_user(self):\n",
    "        print(f\"First Name: {self.first_name}\")\n",
    "        print(f\"Last Name: {self.last_name}\")\n",
    "        print(f\"email = {self.email}\")\n",
    "        print(f\"username = {self.username}\")\n",
    "        print(f\"country = {self.country}\")\n",
    "        \n",
    "    #make another method to greet the user:\n",
    "    def greet_user(self):\n",
    "        print(\"\\nWelcom to Notion.\\n\")\n",
    "\n",
    "#create several instances representing different users:\n",
    "user1 = User(\"Rubayet\",\"Alam\",\"rubayetalam.nse@gmail.com\",\"rubayet_al\",\"Bangladesh\")\n",
    "user2 = User(\"Yeasin\",\"Al Yeasa\",\"yeasin@yahoo.com\",\"yeasinGamerXlegend\",\"Bangladesh\")\n",
    "\n",
    "#call both methods for each user:\n",
    "user1.describe_user()\n",
    "user1.greet_user()\n",
    "\n",
    "user2.describe_user()\n",
    "user2.greet_user()"
   ]
  },
  {
   "cell_type": "markdown",
   "id": "abf10863",
   "metadata": {},
   "source": [
    "<h2> Setting a Default value for an attribute </h2>"
   ]
  },
  {
   "cell_type": "code",
   "execution_count": 5,
   "id": "73410192",
   "metadata": {},
   "outputs": [
    {
     "name": "stdout",
     "output_type": "stream",
     "text": [
      "Brand : Lenovo\n",
      "Processor : core-i3\n",
      "Generation : 6th\n",
      "RAM : 4GB\n",
      "HDD : 1TB\n",
      "Laptop must have a screen size of 15.6 inches.\n",
      "\n",
      "\n",
      "Brand : HP\n",
      "Processor : core-i5\n",
      "Generation : 8th\n",
      "RAM : 8GB\n",
      "HDD : 1TB\n",
      "Laptop must have a screen size of 15.6 inches.\n"
     ]
    }
   ],
   "source": [
    "#making a class----\n",
    "class Laptops:\n",
    "    \n",
    "    #creating attributes for our class , default = screen_size:\n",
    "    def __init__(self,brand,processor,generation,ram,hdd):\n",
    "        self.brand= brand\n",
    "        self.processor = processor\n",
    "        self.generation= generation\n",
    "        self.ram = ram\n",
    "        self.hdd = hdd\n",
    "        self.screen_size = 15.6\n",
    "    \n",
    "    #make a method to describe a laptop's specs--\n",
    "    def describe_laptop(self):\n",
    "        print(f\"Brand : {self.brand}\")\n",
    "        print(f\"Processor : {self.processor}\")\n",
    "        print(f\"Generation : {self.generation}\")\n",
    "        print(f\"RAM : {self.ram}\")\n",
    "        print(f\"HDD : {self.hdd}\")\n",
    "    \n",
    "    #make another method to print the default screen_size:\n",
    "    def screen(self):\n",
    "        print(f\"Laptop must have a screen size of {self.screen_size} inches.\")\n",
    "        \n",
    "#making object/instance:\n",
    "laptop1 = Laptops(\"Lenovo\",\"core-i3\",\"6th\",\"4GB\",\"1TB\")\n",
    "laptop2 = Laptops(\"HP\",\"core-i5\",\"8th\",\"8GB\",\"1TB\")\n",
    "\n",
    "#calling method for each instance:\n",
    "laptop1.describe_laptop()\n",
    "laptop1.screen()\n",
    "print(\"\\n\")\n",
    "laptop2.describe_laptop()\n",
    "laptop2.screen()"
   ]
  },
  {
   "cell_type": "markdown",
   "id": "0a627ca4",
   "metadata": {},
   "source": [
    "<h2>Modifying an Attribute's Value Directly </h2>"
   ]
  },
  {
   "cell_type": "code",
   "execution_count": 6,
   "id": "8caf4faf",
   "metadata": {},
   "outputs": [
    {
     "name": "stdout",
     "output_type": "stream",
     "text": [
      "Brand : Asus\n",
      "Processor : core-i5\n",
      "Generation : 11th\n",
      "RAM : 12GB\n",
      "HDD : 1TB\n",
      "\n",
      "\n",
      "Laptop must have a screen size of 14.0 inches.\n"
     ]
    }
   ],
   "source": [
    "new_laptop = Laptops(\"Asus\",\"core-i5\",\"11th\",\"12GB\",\"1TB\")\n",
    "new_laptop.screen_size = 14.0\n",
    "new_laptop.describe_laptop()\n",
    "print(\"\\n\")\n",
    "new_laptop.screen()"
   ]
  },
  {
   "cell_type": "markdown",
   "id": "77432bf8",
   "metadata": {},
   "source": [
    "<h2> Modifying an Attribute's Value Through a Method </h2>"
   ]
  },
  {
   "cell_type": "code",
   "execution_count": 13,
   "id": "bb7ce4c6",
   "metadata": {},
   "outputs": [
    {
     "name": "stdout",
     "output_type": "stream",
     "text": [
      "Brand : Walton\n",
      "Processor : Pentium-gold\n",
      "Generation : 6th\n",
      "RAM : 4GB\n",
      "HDD : 256GB\n",
      "\n",
      "\n",
      "Laptop must have a screen size of 13.33 inches.\n"
     ]
    }
   ],
   "source": [
    "#making a class----\n",
    "class Laptops:\n",
    "    \n",
    "    #creating attributes for our class , default = screen_size:\n",
    "    def __init__(self,brand,processor,generation,ram,hdd):\n",
    "        self.brand= brand\n",
    "        self.processor = processor\n",
    "        self.generation= generation\n",
    "        self.ram = ram\n",
    "        self.hdd = hdd\n",
    "        self.screen_size = 0\n",
    "    \n",
    "    #make a method to describe a laptop's specs--\n",
    "    def describe_laptop(self):\n",
    "        print(f\"Brand : {self.brand}\")\n",
    "        print(f\"Processor : {self.processor}\")\n",
    "        print(f\"Generation : {self.generation}\")\n",
    "        print(f\"RAM : {self.ram}\")\n",
    "        print(f\"HDD : {self.hdd}\")\n",
    "    \n",
    "    #make another method to print the default screen_size:\n",
    "    def screen(self):\n",
    "        print(f\"Laptop must have a screen size of {self.screen_size} inches.\")\n",
    "\n",
    "    def update_screen(self,screenSize):\n",
    "        self.screen_size = screenSize\n",
    "\n",
    "laptop3 = Laptops(\"Walton\",\"Pentium-gold\",\"6th\",\"4GB\",\"256GB\")\n",
    "laptop3.describe_laptop()\n",
    "print(\"\\n\")\n",
    "laptop3.update_screen(13.33)\n",
    "laptop3.screen()"
   ]
  },
  {
   "cell_type": "code",
   "execution_count": 15,
   "id": "5f7e1e08",
   "metadata": {},
   "outputs": [
    {
     "name": "stdout",
     "output_type": "stream",
     "text": [
      "Brand : Acer\n",
      "Processor : core-i5\n",
      "Generation : 10th\n",
      "RAM : 8GB\n",
      "HDD : 512GB\n",
      "\n",
      "\n",
      "Laptop must have a screen size of 17.0 inches.\n"
     ]
    }
   ],
   "source": [
    "#making a class----\n",
    "class Laptops:\n",
    "    \n",
    "    #creating attributes for our class , default = screen_size:\n",
    "    def __init__(self,brand,processor,generation,ram,hdd):\n",
    "        self.brand= brand\n",
    "        self.processor = processor\n",
    "        self.generation= generation\n",
    "        self.ram = ram\n",
    "        self.hdd = hdd\n",
    "        self.screen_size = 0\n",
    "    \n",
    "    #make a method to describe a laptop's specs--\n",
    "    def describe_laptop(self):\n",
    "        print(f\"Brand : {self.brand}\")\n",
    "        print(f\"Processor : {self.processor}\")\n",
    "        print(f\"Generation : {self.generation}\")\n",
    "        print(f\"RAM : {self.ram}\")\n",
    "        print(f\"HDD : {self.hdd}\")\n",
    "    \n",
    "    #make another method to print the default screen_size:\n",
    "    def screen(self):\n",
    "        print(f\"Laptop must have a screen size of {self.screen_size} inches.\")\n",
    "    \n",
    "    def update_laptop_screen(self,s_size):\n",
    "        \n",
    "        if s_size>=self.screen_size:\n",
    "            self.screen_size =  s_size\n",
    "        else:\n",
    "            print(\"No laptop has such screen size!\")\n",
    "\n",
    "laptop4 = Laptops(\"Acer\",\"core-i5\",\"10th\",\"8GB\",\"512GB\")\n",
    "laptop4.describe_laptop()\n",
    "print(\"\\n\")\n",
    "laptop4.update_laptop_screen(17.0)\n",
    "laptop4.screen()\n",
    "    "
   ]
  },
  {
   "cell_type": "markdown",
   "id": "ecbc5b7c",
   "metadata": {},
   "source": [
    "<h3>9.4</h3>\n",
    "Start with your program from Exercise 9-1 (page 162). Add an attribute called `number_served` with a default value of 0. Create an instance called `restaurant` from this class. Print the number of customers the restaurant has served, and then change this value and print it again.\n",
    "\n",
    "Add a method called `set_number_served()` that lets you set the number of customers that have been served. Call this method with a new number and print the value again.\n",
    "\n",
    "Add a method called `increment_number_served()` that lets you increment the number of customers who’ve been served. Call this method with any number you like that could represent how many customers were served in, say, a day of business."
   ]
  },
  {
   "cell_type": "code",
   "execution_count": 20,
   "id": "626f7764",
   "metadata": {},
   "outputs": [
    {
     "name": "stdout",
     "output_type": "stream",
     "text": [
      "Showing our 2 attributes-restaurant_name & cuisine_type \n",
      "\n",
      "Last time we went to- The Food Engineering.\n",
      "We really enjoyed their Italian Cuisine.\n",
      "\n",
      "The restaurant is very new, it has served 0 people\n",
      "\n",
      "The restaurant has served 26 people in one day.\n",
      "\n",
      "\n",
      "#calling number_served method---\n",
      "The restaurant has served 489 people in one month.\n",
      "\n",
      "Calling methods: \n",
      "\n",
      "The restaurant near my home is-- The Food Engineering\n",
      "The cuisine type of the restaurant is---Italian Cuisine\n",
      "The Food Engineering is open now!\n"
     ]
    }
   ],
   "source": [
    "class Restaurant:\n",
    "    \n",
    "    def __init__(self,restaurant_name,cuisine_type):\n",
    "        self.restaurant_name = restaurant_name\n",
    "        self.cuisine_type = cuisine_type\n",
    "        self.number_served = 0\n",
    "        \n",
    "    #making a method--\n",
    "    def describe_restaurant(self):\n",
    "        print(f\"The restaurant near my home is-- {self.restaurant_name}\")\n",
    "        print(f\"The cuisine type of the restaurant is---{self.cuisine_type}\")\n",
    "        \n",
    "    #making another method----\n",
    "    def open_restaurant(self):\n",
    "        print(f\"{self.restaurant_name} is open now!\")\n",
    "        \n",
    "    #making a method to show the customer how many people we have already:\n",
    "    def set_number_served(self,number_served):\n",
    "        self.number_served =  number_served\n",
    "        \n",
    "\n",
    "#make an instance(object)\n",
    "restaurant1 = Restaurant(\"The Food Engineering\",\"Italian Cuisine\")\n",
    "\n",
    "\n",
    "#using objects--\n",
    "print(\"Showing our 2 attributes-restaurant_name & cuisine_type \\n\")\n",
    "print(f\"Last time we went to- {restaurant1.restaurant_name}.\")\n",
    "print(f\"We really enjoyed their {restaurant1.cuisine_type}.\\n\")\n",
    "#showingt number_served = 0\n",
    "print(f\"The restaurant is very new, it has served {restaurant1.number_served} people\\n\")\n",
    "\n",
    "#changing value of number_served:\n",
    "restaurant1.number_served = 26\n",
    "print(f\"The restaurant has served {restaurant1.number_served} people in one day.\\n\")\n",
    "\n",
    "#calling number_served method---\n",
    "restaurant1.number_served = 489\n",
    "print(\"\\n#calling number_served method---\")\n",
    "print(f\"The restaurant has served {restaurant1.number_served} people in one month.\\n\")\n",
    "\n",
    "print(\"Calling methods: \\n\")\n",
    "#calling methods---\n",
    "restaurant1.describe_restaurant()\n",
    "restaurant1.open_restaurant()\n",
    "              "
   ]
  },
  {
   "cell_type": "code",
   "execution_count": 26,
   "id": "c835ecd7",
   "metadata": {},
   "outputs": [
    {
     "name": "stdout",
     "output_type": "stream",
     "text": [
      "Number served: 1890\n",
      "Number served: 1910\n"
     ]
    }
   ],
   "source": [
    "    def set_number_served(self, number_served):\n",
    "        \"\"\"Allow user to set the number of customers that have been served.\"\"\"\n",
    "        self.number_served = number_served\n",
    "\n",
    "    def increment_number_served(self, additional_served):\n",
    "        \"\"\"Allow user to increment the number of customers served.\"\"\"\n",
    "        self.number_served += additional_served\n",
    "\n",
    "#calling methods---\n",
    "restaurant.set_number_served(1890)\n",
    "print(f\"Number served: {restaurant.number_served}\")\n",
    "\n",
    "#calling increment methods--showing how many people they served recently(20)--\n",
    "restaurant.increment_number_served(20)\n",
    "print(f\"Number served: {restaurant.number_served}\")"
   ]
  },
  {
   "cell_type": "markdown",
   "id": "c464cc55",
   "metadata": {},
   "source": [
    "<h2> Constructor and Self </h2>\n",
    "Every class has object. In the computer there's something called <b> Heap Memory </b>. In this heap memory we can find all our objects. Every object takes some space in the heap memory. If we use id function we can see our objects address.\n",
    "for c1 it's ---2189654818096. for c2 it's ---2196969976967. every time it keeps changing.\n",
    "size of the object depend upon number of variables and size of variables.\n",
    "The constructor allocates memory for each object."
   ]
  },
  {
   "cell_type": "code",
   "execution_count": 23,
   "id": "7280ca6f",
   "metadata": {},
   "outputs": [
    {
     "name": "stdout",
     "output_type": "stream",
     "text": [
      "2189654818528\n",
      "2189654818048\n"
     ]
    }
   ],
   "source": [
    "class Computer:\n",
    "    pass\n",
    "\n",
    "c1 = Computer()\n",
    "c2 = Computer()\n",
    "print(id(c1))\n",
    "print(id(c2))"
   ]
  },
  {
   "cell_type": "code",
   "execution_count": 34,
   "id": "98d8012d",
   "metadata": {},
   "outputs": [
    {
     "name": "stdout",
     "output_type": "stream",
     "text": [
      "Rubayet Alam\n",
      "Yeasin\n",
      "22\n",
      "12\n"
     ]
    }
   ],
   "source": [
    "class Employee:\n",
    "    def __init__(self):\n",
    "        self.name = \"Rubayet Alam\"\n",
    "        self.age = 22\n",
    "  #defining objects in Emplyoee class.      \n",
    "        \n",
    "        \n",
    "    def update(self):\n",
    "        self.age = 12\n",
    "    \n",
    "    def compare(self,other):\n",
    "        if self.age == other.age:\n",
    "            return true\n",
    "        else:\n",
    "            return false\n",
    "\n",
    "dev1 = Employee()\n",
    "dev2 = Employee()\n",
    "\n",
    "dev2.name = \"Yeasin\"\n",
    "dev2.update()\n",
    "print(dev1.name)\n",
    "print(dev2.name)\n",
    "print(dev1.age)\n",
    "print(dev2.age)"
   ]
  },
  {
   "cell_type": "code",
   "execution_count": 36,
   "id": "e01ed11f",
   "metadata": {},
   "outputs": [
    {
     "name": "stdout",
     "output_type": "stream",
     "text": [
      "They are same.\n"
     ]
    }
   ],
   "source": [
    "class Employee:\n",
    "    def __init__(self):\n",
    "        self.name = \"Rubayet Alam\"\n",
    "        self.age = 22\n",
    "  \n",
    "    \n",
    "    def compare(self,other):\n",
    "        if self.age == other.age:\n",
    "            return True\n",
    "        else:\n",
    "            return False\n",
    "\n",
    "dev1 = Employee()\n",
    "dev2 = Employee()\n",
    "dev2.age =22\n",
    "\n",
    "if dev1.compare(dev2):\n",
    "    print(\"They are same.\")\n",
    "else:\n",
    "    print(\"They are different.\")"
   ]
  },
  {
   "cell_type": "markdown",
   "id": "355d7f5c",
   "metadata": {},
   "source": [
    "<h3> compare(who is calling, whom to compare) </h3"
   ]
  },
  {
   "cell_type": "markdown",
   "id": "756969ce",
   "metadata": {},
   "source": [
    "<h1> Types of Variables in oop</h1>"
   ]
  },
  {
   "cell_type": "markdown",
   "id": "eedb3dbe",
   "metadata": {},
   "source": [
    "In OOP there is 2 kinds of variables: <ol><li> Instance Variable</li> <li>Class(static) Variable</ol>"
   ]
  },
  {
   "cell_type": "code",
   "execution_count": 5,
   "id": "d7d9e325",
   "metadata": {},
   "outputs": [
    {
     "name": "stdout",
     "output_type": "stream",
     "text": [
      "991ES PLUS- 1250\n",
      "991ES PLUS- 1250\n"
     ]
    }
   ],
   "source": [
    "class Calculators:\n",
    "    def __init__(self):\n",
    "        self.model = \"991ES PLUS-\"\n",
    "        self.price = 1250\n",
    "\n",
    "calculator1 = Calculators()\n",
    "calculator2 = Calculators()\n",
    "\n",
    "print(calculator1.model, calculator1.price)\n",
    "print(calculator2.model, calculator2.price)"
   ]
  },
  {
   "cell_type": "code",
   "execution_count": 6,
   "id": "c618e05f",
   "metadata": {},
   "outputs": [],
   "source": [
    "calculator1.model = \"991ES-\""
   ]
  },
  {
   "cell_type": "code",
   "execution_count": 7,
   "id": "eac3183b",
   "metadata": {},
   "outputs": [
    {
     "name": "stdout",
     "output_type": "stream",
     "text": [
      "991ES- 1250\n",
      "991ES PLUS- 1250\n"
     ]
    }
   ],
   "source": [
    "print(calculator1.model, calculator1.price)\n",
    "print(calculator2.model, calculator2.price)"
   ]
  },
  {
   "cell_type": "markdown",
   "id": "e3cbabf2",
   "metadata": {},
   "source": [
    "<h6>Variable inside the __init__() are instance variable. All these Variables were instance variable.</h6>"
   ]
  },
  {
   "cell_type": "code",
   "execution_count": 13,
   "id": "7e09a2a1",
   "metadata": {},
   "outputs": [
    {
     "name": "stdout",
     "output_type": "stream",
     "text": [
      "991ES- 1250 CASIO\n",
      "991ES PLUS- 1250 CASIO\n"
     ]
    }
   ],
   "source": [
    "class Calculators:\n",
    "    \n",
    "    #class/static variable\n",
    "    calc_company = \"CASIO\"    #class namespace\n",
    "    \n",
    "    def __init__(self):\n",
    "        #instance variable\n",
    "        self.model = \"991ES PLUS-\"      #instance namespace\n",
    "        self.price = 1250\n",
    "\n",
    "#creating instances\n",
    "calculator1 = Calculators()\n",
    "calculator2 = Calculators()\n",
    "\n",
    "#changing instance variable for our first object--\n",
    "calculator1.model = \"991ES-\"\n",
    "\n",
    "\n",
    "print(calculator1.model, calculator1.price, calculator1.calc_company)\n",
    "print(calculator2.model, calculator2.price, calculator2.calc_company)"
   ]
  },
  {
   "cell_type": "code",
   "execution_count": 14,
   "id": "6f7b25c6",
   "metadata": {},
   "outputs": [
    {
     "name": "stdout",
     "output_type": "stream",
     "text": [
      "991ES- 1250 STAR-TECH\n",
      "991ES PLUS- 1250 STAR-TECH\n"
     ]
    }
   ],
   "source": [
    "#now we want to change the class variable--\n",
    "Calculators.calc_company = \"STAR-TECH\"\n",
    "\n",
    "#calling methods or showing variables value for each object--\n",
    "print(calculator1.model, calculator1.price, calculator1.calc_company)\n",
    "print(calculator2.model, calculator2.price, calculator2.calc_company)\n"
   ]
  },
  {
   "cell_type": "markdown",
   "id": "3c4207d2",
   "metadata": {},
   "source": [
    "<h6>Variable outside the __init__() and inside the class are Class/static variable. Here the calc_company is the class variable </h6> .</h6>"
   ]
  },
  {
   "cell_type": "markdown",
   "id": "b23d3278",
   "metadata": {},
   "source": [
    "<h1>Types of methods </h1><br>\n",
    "There is 3 kinds of methods:<br>\n",
    "1. Instance Method <br>\n",
    "2. Class Method<br>\n",
    "3. Static Method<br>"
   ]
  },
  {
   "cell_type": "markdown",
   "id": "b670e288",
   "metadata": {},
   "source": [
    "## Instance Methods in Python\n",
    "\n",
    "Instance methods are the most common type of methods in Python classes. These are so called because they can access unique data of their instance. If you have two objects each created from a car class, then they each may have different properties. They may have different colors, engine sizes, seats, and so on.\n",
    "\n",
    "Instance methods must have **self** as a parameter, but you don't need to pass this in every time. Self is another Python special term. Inside any instance method, you can use self to access any data or methods that may reside in your class. You won't be able to access them without going through self.<br>\n",
    "Example:<br>\n",
    "    def avg(self):<br>\n",
    "       <space>return (self.m1+self.m2+self.m3)/3<br>"
   ]
  },
  {
   "cell_type": "code",
   "execution_count": 17,
   "id": "93bd8df5",
   "metadata": {},
   "outputs": [
    {
     "data": {
      "text/plain": [
       "60.0"
      ]
     },
     "execution_count": 17,
     "metadata": {},
     "output_type": "execute_result"
    }
   ],
   "source": [
    "class Student:\n",
    "    \n",
    "    school = \"Shaheen\"\n",
    "    \n",
    "    def __init__(self,m1,m2,m3):\n",
    "        self.m1 = m1\n",
    "        self.m2 = m2\n",
    "        self.m3 = m3\n",
    "    \n",
    "    def avg(self):\n",
    "        return (self.m1+self.m2+self.m3)/3\n",
    "\n",
    "#creating objects--\n",
    "s1 = Student(50,60,70)\n",
    "s2 = Student(80,90,100)\n",
    "s3 = Student(75,85,95)\n",
    "\n",
    "s1.avg()"
   ]
  },
  {
   "cell_type": "code",
   "execution_count": 18,
   "id": "3dddb430",
   "metadata": {},
   "outputs": [
    {
     "data": {
      "text/plain": [
       "90.0"
      ]
     },
     "execution_count": 18,
     "metadata": {},
     "output_type": "execute_result"
    }
   ],
   "source": [
    "s2.avg()"
   ]
  },
  {
   "cell_type": "code",
   "execution_count": 19,
   "id": "b6641c4f",
   "metadata": {},
   "outputs": [
    {
     "data": {
      "text/plain": [
       "85.0"
      ]
     },
     "execution_count": 19,
     "metadata": {},
     "output_type": "execute_result"
    }
   ],
   "source": [
    "s3.avg()"
   ]
  },
  {
   "cell_type": "markdown",
   "id": "1a7fecb5",
   "metadata": {},
   "source": [
    "<h2> Type of Instance Method </h2><br>\n",
    "1. Accessor Method : If your want to just fetch the values of your instance variables use accessor.<br>\n",
    "2. Mutator Method : If you want to modify the the vslues of your instance variable use mutator."
   ]
  },
  {
   "cell_type": "code",
   "execution_count": 36,
   "id": "cee3497c",
   "metadata": {},
   "outputs": [
    {
     "name": "stdout",
     "output_type": "stream",
     "text": [
      "Getting the marks of first student's first number:\n",
      "100\n",
      "\n",
      "Getting the marks of first student's first number using get method, This is accessor\n",
      "100\n",
      "\n",
      "Setting the marks of first student's first number to 500. This is mutator\n",
      "500\n"
     ]
    }
   ],
   "source": [
    "class Student:\n",
    "    \n",
    "    school = \"Shaheen\"\n",
    "    \n",
    "    def __init__(self,m1,m2,m3):\n",
    "        self.m1 = m1\n",
    "        self.m2 = m2\n",
    "        self.m3 = m3\n",
    "        \n",
    "    \n",
    "    #I want to know the first mark of a student:\n",
    "    #this is accessor method\n",
    "    def get_m1(self):      \n",
    "        return self.m1\n",
    "    \n",
    "    #I will change the value of first mark 100 to 500\n",
    "    #this is mutator method\n",
    "    def set_m1(self,value):\n",
    "        self.m1 = value\n",
    "\n",
    "s4 = Student(100,200,300)\n",
    "s5 = Student (81,91,71)\n",
    "s6 = Student(68,98,40)\n",
    "\n",
    "print(\"Getting the marks of first student's first number:\")\n",
    "print(s4.m1)\n",
    "print(\"\\nGetting the marks of first student's first number using get method, This is accessor\")\n",
    "print(s4.get_m1())\n",
    "print(\"\\nSetting the marks of first student's first number to 500. This is mutator\")\n",
    "s4.set_m1(500)\n",
    "print(s4.get_m1())"
   ]
  },
  {
   "cell_type": "markdown",
   "id": "7f24fdb1",
   "metadata": {},
   "source": [
    "<h2>Make a Class Method </h2>"
   ]
  },
  {
   "cell_type": "code",
   "execution_count": 39,
   "id": "0eaa88fa",
   "metadata": {},
   "outputs": [
    {
     "name": "stdout",
     "output_type": "stream",
     "text": [
      "Shaheen\n",
      "\n",
      "\n",
      "Shaheen\n"
     ]
    }
   ],
   "source": [
    "class Student:\n",
    "    \n",
    "    #let's make a class variable--\n",
    "    school = \"Shaheen\"\n",
    "    \n",
    "    #creating attribute m1,m2,m3 which represent the student's marks for 3 subjects.\n",
    "    def __init__(self,m1,m2,m3):\n",
    "        self.m1 = m1\n",
    "        self.m2 = m2\n",
    "        self.m3 = m3\n",
    "    \n",
    "    #for class method we use cls and a decorator(@classmethod)--\n",
    "    @classmethod\n",
    "    def getSchoolname(cls):\n",
    "        return cls.school\n",
    "\n",
    "\n",
    "#creating objects--\n",
    "s1 = Student(50,60,70)\n",
    "s2 = Student(80,90,100)\n",
    "s3 = Student(75,85,95)\n",
    "\n",
    "#calling our class method for first student---\n",
    "print(s1.getSchoolname())\n",
    "print(\"\\n\")\n",
    "print(Student.getSchoolname())"
   ]
  },
  {
   "cell_type": "markdown",
   "id": "6a2358a0",
   "metadata": {},
   "source": [
    "<h2>Static Method </h2><br>\n",
    "It doesn't work with class/instance variable."
   ]
  },
  {
   "cell_type": "code",
   "execution_count": 47,
   "id": "e3b982c5",
   "metadata": {},
   "outputs": [
    {
     "name": "stdout",
     "output_type": "stream",
     "text": [
      "Shaheen\n",
      "\n",
      "\n",
      "Shaheen\n",
      "\n",
      "Calling our static method---\n",
      "\n",
      "All the student passed!\n"
     ]
    }
   ],
   "source": [
    "class Student:\n",
    "    \n",
    "    #let's make a class variable--\n",
    "    school = \"Shaheen\"\n",
    "    \n",
    "    #creating attribute m1,m2,m3 which represent the student's marks for 3 subjects.\n",
    "    def __init__(self,m1,m2,m3):\n",
    "        self.m1 = m1\n",
    "        self.m2 = m2\n",
    "        self.m3 = m3\n",
    "    \n",
    "    #for class method we use cls and a decorator--\n",
    "    @classmethod \n",
    "    def getSchoolname(cls):\n",
    "        return cls.school\n",
    "    \n",
    "    #static method don't use self/variable/cls. keep () blank. don't forget the decorator (@staticmethod)\n",
    "    @staticmethod\n",
    "    def greeet():\n",
    "        print(\"All the student passed!\")\n",
    "\n",
    "#creating objects--\n",
    "s1 = Student(50,60,70)\n",
    "s2 = Student(80,90,100)\n",
    "s3 = Student(75,85,95)\n",
    "\n",
    "#calling our class method for first student---\n",
    "print(s1.getSchoolname())\n",
    "print(\"\\n\")\n",
    "print(Student.getSchoolname())\n",
    "print(\"\\nCalling our static method---\\n\")\n",
    "Student.greeet()"
   ]
  },
  {
   "cell_type": "markdown",
   "id": "13f7af22",
   "metadata": {},
   "source": [
    "<h2>Inner Class in Python </h2>\n",
    "<br>A class inside another class"
   ]
  },
  {
   "cell_type": "code",
   "execution_count": 65,
   "id": "aa6c6332",
   "metadata": {},
   "outputs": [
    {
     "name": "stdout",
     "output_type": "stream",
     "text": [
      "Rubayet 201828008\n",
      "Sangida 201828027\n",
      "HP Samsung 991\n",
      "\n",
      "\n",
      "HP\n",
      "Samsung\n"
     ]
    }
   ],
   "source": [
    "class Student: #outer class\n",
    "    \n",
    "    def __init__(self,name,rollno):\n",
    "        self.name = name\n",
    "        self.rollno = rollno\n",
    "        self.gadget = self.Gadget()\n",
    "    \n",
    "    def show(self):\n",
    "        print(self.name, self.rollno)\n",
    "        self.gadget.show()  #HP Samsung 991\n",
    "        \n",
    "    #making another class--\n",
    "    class Gadget: #this is inner class\n",
    "        \n",
    "        def __init__(self):\n",
    "            self.laptop = \"HP\"\n",
    "            self.phone = \"Samsung\"\n",
    "            self.es_calculator = 991\n",
    "            \n",
    "        def show(self):\n",
    "            print(self.laptop,self.phone,self.es_calculator)\n",
    "\n",
    "#making objects-----\n",
    "s1 = Student(\"Rubayet\",201828008)\n",
    "s2 = Student(\"Sangida\",201828027)\n",
    "\n",
    "print(s1.name, s1.rollno)\n",
    "s2.show()\n",
    "print(\"\\n\")\n",
    "g1 =print(s1.gadget.laptop)\n",
    "print(s2.gadget.phone)\n",
    "g2= Student.Gadget()"
   ]
  },
  {
   "cell_type": "markdown",
   "id": "1a73dbec",
   "metadata": {},
   "source": [
    "<h6> You can create object of inner class inside the outer class.<br> Or<br> You can create object of inner class outside the outer class .<br>"
   ]
  },
  {
   "cell_type": "markdown",
   "id": "f8e3f6e0",
   "metadata": {},
   "source": [
    "<h1>Inheritance</h1>"
   ]
  },
  {
   "cell_type": "code",
   "execution_count": 36,
   "id": "8086f7bf",
   "metadata": {},
   "outputs": [
    {
     "name": "stdout",
     "output_type": "stream",
     "text": [
      "Feauture 1 is working.\n",
      "Feauture 2 is working.\n",
      "\n",
      "\n",
      "Feauture 1 is working.\n",
      "Feauture 2 is working.\n",
      "Feauture 3 is working.\n",
      "Feauture 4 is working.\n",
      "\n",
      "\n",
      "Feauture 1 is working.\n",
      "Feauture 2 is working.\n",
      "Feauture 3 is working.\n",
      "Feauture 4 is working.\n",
      "Feauture 5 is working.\n"
     ]
    }
   ],
   "source": [
    "#paernt class\n",
    "class A:\n",
    "    \n",
    "    def feature1(self):\n",
    "        print(\"Feauture 1 is working.\")\n",
    "        \n",
    "    def feature2(self):\n",
    "        print(\"Feauture 2 is working.\")\n",
    "    \n",
    "#child class---\n",
    "class B(A):\n",
    "    def feature3(self):\n",
    "        print(\"Feauture 3 is working.\")\n",
    "        \n",
    "    def feature4(self):\n",
    "        print(\"Feauture 4 is working.\")\n",
    "\n",
    "#child of child class---\n",
    "class C(B):\n",
    "     def feature5(self):\n",
    "        print(\"Feauture 5 is working.\")\n",
    "\n",
    "        \n",
    "#making an object/instance for parent class A\n",
    "a1 = A()\n",
    "a1.feature1()\n",
    "a1.feature2()\n",
    "print(\"\\n\")\n",
    "#making an object/instance for child class B\n",
    "b1 = B()\n",
    "b1.feature1()\n",
    "b1.feature2()\n",
    "b1.feature3()\n",
    "b1.feature4()\n",
    "print(\"\\n\")\n",
    "#making an object/instance for child of child class--C\n",
    "c1 = C()\n",
    "c1.feature1()\n",
    "c1.feature2()\n",
    "c1.feature3()\n",
    "c1.feature4()\n",
    "c1.feature5()\n",
    "#c1 contains all the objects of A, B and C."
   ]
  },
  {
   "cell_type": "markdown",
   "id": "2ed1ff08",
   "metadata": {},
   "source": [
    "<h6> Single Level Inheritance--Parent and Child class.(A,B) </h6>\n",
    "<h6> Multi Level Inheritance--Parent and Child and Child of child class.(A,B,C) </h6>\n",
    "<h6> Multiple Inheritance--Parent class -A,B and child class.(C---A,B) </h6>"
   ]
  },
  {
   "cell_type": "code",
   "execution_count": 34,
   "id": "53a827f4",
   "metadata": {},
   "outputs": [
    {
     "name": "stdout",
     "output_type": "stream",
     "text": [
      "Feauture 1 is working.\n",
      "Feauture 2 is working.\n",
      "\n",
      "B doesn't inherit any class, its a parent class like A\n",
      "Feauture 3 is working.\n",
      "Feauture 4 is working.\n",
      "\n",
      "C inherited by A and B----\n",
      "Feauture 1 is working.\n",
      "Feauture 3 is working.\n",
      "Feauture 5 is working.\n"
     ]
    }
   ],
   "source": [
    "class A:\n",
    "    \n",
    "    def feature1(self):\n",
    "        print(\"Feauture 1 is working.\")\n",
    "        \n",
    "    def feature2(self):\n",
    "        print(\"Feauture 2 is working.\")\n",
    "\n",
    "class B:\n",
    "    def feature3(self):\n",
    "        print(\"Feauture 3 is working.\")\n",
    "        \n",
    "    def feature4(self):\n",
    "        print(\"Feauture 4 is working.\")\n",
    "\n",
    "#multiple inheritance\n",
    "class C(A,B):\n",
    "     def feature5(self):\n",
    "        print(\"Feauture 5 is working.\")\n",
    "\n",
    "a1 = A()\n",
    "a1.feature1()\n",
    "a1.feature2()\n",
    "print(\"\\nB doesn't inherit any class, its a parent class like A\")\n",
    "b1 = B()\n",
    "b1.feature3()\n",
    "b1.feature4()\n",
    "print(\"\\nC inherited by A and B----\")\n",
    "c1 = C()\n",
    "c1.feature1()\n",
    "c1.feature3()\n",
    "c1.feature5()"
   ]
  },
  {
   "cell_type": "markdown",
   "id": "a44f4e65",
   "metadata": {},
   "source": [
    "<h1>Constructor in Inheritance</h1>"
   ]
  },
  {
   "cell_type": "code",
   "execution_count": 39,
   "id": "d910f11a",
   "metadata": {},
   "outputs": [
    {
     "name": "stdout",
     "output_type": "stream",
     "text": [
      "Init is working.\n",
      "\n",
      "\n",
      "Init is working.\n"
     ]
    }
   ],
   "source": [
    "class A:\n",
    "    #defining the constructor:\n",
    "    def __init__(self):\n",
    "        print(\"Init is working.\")\n",
    "    \n",
    "    def feature1(self):\n",
    "        print(\"Feauture 1 is working.\")\n",
    "        \n",
    "    def feature2(self):\n",
    "        print(\"Feauture 2 is working.\")\n",
    "\n",
    "class B(A):\n",
    "    def feature3(self):\n",
    "        print(\"Feauture 3 is working.\")\n",
    "        \n",
    "    def feature4(self):\n",
    "        print(\"Feauture 4 is working.\")\n",
    "\n",
    "a1 = A()\n",
    "print(\"\\n\")\n",
    "b1 = B()"
   ]
  },
  {
   "cell_type": "code",
   "execution_count": 43,
   "id": "cd503d67",
   "metadata": {},
   "outputs": [
    {
     "name": "stdout",
     "output_type": "stream",
     "text": [
      "Init is working from A.\n",
      "\n",
      "Now object of child class(b1) will take constructor of B.It won't go to 'constructor of A'\n",
      "Init is working from B.\n"
     ]
    }
   ],
   "source": [
    "class A:\n",
    "    #defining the constructor:\n",
    "    def __init__(self):\n",
    "        print(\"Init is working from A.\")\n",
    "    \n",
    "    def feature1(self):\n",
    "        print(\"Feauture 1 is working.\")\n",
    "        \n",
    "    def feature2(self):\n",
    "        print(\"Feauture 2 is working.\")\n",
    "\n",
    "class B(A):\n",
    "    #defining the constructor:\n",
    "    def __init__(self):\n",
    "        print(\"Init is working from B.\")\n",
    "        \n",
    "    def feature3(self):\n",
    "        print(\"Feauture 3 is working.\")\n",
    "        \n",
    "    def feature4(self):\n",
    "        print(\"Feauture 4 is working.\")\n",
    "\n",
    "a1 = A()\n",
    "print(\"\\nNow object of child class(b1) will take constructor of B.It won't go to 'constructor of A'\")\n",
    "b1 = B()"
   ]
  },
  {
   "cell_type": "code",
   "execution_count": 57,
   "id": "19fd560a",
   "metadata": {},
   "outputs": [
    {
     "name": "stdout",
     "output_type": "stream",
     "text": [
      "Init is working from A.\n",
      "\n",
      "Now object of child class(b1) will take 'constructor of A' due to super method and B-constructor.\n",
      "Init is working from A.\n",
      "Init is working from B.\n"
     ]
    }
   ],
   "source": [
    "class A:\n",
    "    #defining the constructor:\n",
    "    def __init__(self):\n",
    "        print(\"Init is working from A.\")\n",
    "    \n",
    "    def feature1(self):\n",
    "        print(\"Feauture 1 is working.\")\n",
    "        \n",
    "    def feature2(self):\n",
    "        print(\"Feauture 2 is working.\")\n",
    "\n",
    "class B(A):\n",
    "    #defining the constructor:\n",
    "    def __init__(self):\n",
    "        super().__init__()\n",
    "        print(\"Init is working from B.\")\n",
    "        \n",
    "    def feature3(self):\n",
    "        print(\"Feauture 3 is working.\")\n",
    "        \n",
    "    def feature4(self):\n",
    "        print(\"Feauture 4 is working.\")\n",
    "\n",
    "a1 = A()\n",
    "print(\"\\nNow object of child class(b1) will take 'constructor of A' due to super method and B-constructor.\")\n",
    "b1 = B()"
   ]
  },
  {
   "cell_type": "markdown",
   "id": "bb342fc2",
   "metadata": {},
   "source": [
    "<h2>Method Resolution Order</h2>\n",
    "<h6>even though C inherits B and A both, it won't take the constructor of B.</h6>"
   ]
  },
  {
   "cell_type": "code",
   "execution_count": 50,
   "id": "9878fcac",
   "metadata": {},
   "outputs": [
    {
     "name": "stdout",
     "output_type": "stream",
     "text": [
      "Init is working from A.\n",
      "Init is working from C.\n"
     ]
    }
   ],
   "source": [
    "#paernt class\n",
    "class A:\n",
    "        #defining the constructor:\n",
    "    def __init__(self):\n",
    "        print(\"Init is working from A.\")\n",
    "    \n",
    "    def feature1(self):\n",
    "        print(\"Feauture 1 is working.\")\n",
    "        \n",
    "    def feature2(self):\n",
    "        print(\"Feauture 2 is working.\")\n",
    "    \n",
    "#parent class---\n",
    "class B:\n",
    "    #defining the constructor:\n",
    "    def __init__(self):\n",
    "        print(\"Init is working from B.\")\n",
    "        \n",
    "    def feature3(self):\n",
    "        print(\"Feauture 3 is working.\")\n",
    "        \n",
    "    def feature4(self):\n",
    "        print(\"Feauture 4 is working.\")\n",
    "\n",
    "#child of child class---\n",
    "class C(A,B):\n",
    "        #defining the constructor:\n",
    "    def __init__(self):\n",
    "        super().__init__()\n",
    "        print(\"Init is working from C.\")\n",
    "    \n",
    "    def feature5(self):\n",
    "        print(\"Feauture 5 is working.\")\n",
    "\n",
    "c2 = C()\n",
    "#even though C inherits B, it won't take the constructor of B."
   ]
  },
  {
   "cell_type": "code",
   "execution_count": 59,
   "id": "9865c6f6",
   "metadata": {},
   "outputs": [
    {
     "name": "stdout",
     "output_type": "stream",
     "text": [
      "Init is working from A.\n",
      "Init is working from C.\n",
      "\n",
      "\n",
      "Init is working from A.\n",
      "Init is working from C.\n",
      "\n",
      "Let's check the feautres of c3\n",
      "Feauture 1 is working.\n",
      "Feauture 2 is working.\n",
      "Feauture 3 is working.\n",
      "Feauture 4 is working.\n",
      "Feauture 5 is working.\n",
      "Feauture 6 is working.\n",
      "Feauture 7 is working.\n"
     ]
    }
   ],
   "source": [
    "#paernt class\n",
    "class A:\n",
    "        #defining the constructor:\n",
    "    def __init__(self):\n",
    "        print(\"Init is working from A.\")\n",
    "    \n",
    "    def feature1(self):\n",
    "        print(\"Feauture 1 is working.\")\n",
    "        \n",
    "    def feature2(self):\n",
    "        print(\"Feauture 2 is working.\")\n",
    "    \n",
    "#parent class---\n",
    "class B:\n",
    "    #defining the constructor:\n",
    "    def __init__(self):\n",
    "        print(\"Init is working from B.\")\n",
    "        \n",
    "    def feature3(self):\n",
    "        print(\"Feauture 3 is working.\")\n",
    "        \n",
    "    def feature4(self):\n",
    "        print(\"Feauture 4 is working.\")\n",
    "#parent class---\n",
    "class D:\n",
    "    #defining the constructor:\n",
    "    def __init__(self):\n",
    "        print(\"Init is working from D.\")\n",
    "        \n",
    "    def feature5(self):\n",
    "        print(\"Feauture 5 is working.\")\n",
    "        \n",
    "    def feature6(self):\n",
    "        print(\"Feauture 6 is working.\")\n",
    "\n",
    "#child of child class---\n",
    "class C(A,B,D):\n",
    "        #defining the constructor:\n",
    "    def __init__(self):\n",
    "        super().__init__()\n",
    "        print(\"Init is working from C.\")\n",
    "    \n",
    "    def feature7(self):\n",
    "        print(\"Feauture 7 is working.\")\n",
    "\n",
    "c3 = C()\n",
    "print(\"\\n\")\n",
    "c4 = C()\n",
    "#even though C inherits B and D, it won't take the constructor of B and D.\n",
    "print(\"\\nLet's check the feautres of c3\")\n",
    "c3.feature1()\n",
    "c3.feature2()\n",
    "c3.feature3()\n",
    "c3.feature4()\n",
    "c3.feature5()\n",
    "c3.feature6()\n",
    "c3.feature7()"
   ]
  },
  {
   "cell_type": "markdown",
   "id": "948bdeac",
   "metadata": {},
   "source": [
    "## 9-6: Ice Cream Stand\n",
    "\n",
    "An ice cream stand is a specific kind of restaurant. Write a class called `IceCreamStand` that inherits from the `Restaurant` class you wrote in Exercise 9-1 (page 166) or Exercise 9-4 (page 171). Either version of the class will work; just pick the one you like better. Add an attribute called `flavors` that stores a list of ice cream flavors. Write a method that displays theese flavors. Create an instance of `IceCreamStand`, and call this method."
   ]
  },
  {
   "cell_type": "code",
   "execution_count": 13,
   "id": "959ac15e",
   "metadata": {},
   "outputs": [
    {
     "name": "stdout",
     "output_type": "stream",
     "text": [
      "Showing our 2 attributes- cafe name & cafe location \n",
      "\n",
      "Last time we went to- North End.\n",
      "We reached -Dhanmondi soon.\n",
      "\n",
      "Calling methods for parent class(Cafes): \n",
      "\n",
      "My favourite cafe is-- North End\n",
      "The location of the cafe is---Dhanmondi\n",
      "North End is open now!\n",
      "\n",
      "Calling methods for child class(IceCreamStand): \n",
      "\n",
      "We have all these flavors for you: \n",
      "vanila\n",
      "chocolate\n",
      "strawberry\n",
      "kheer\n",
      "mango\n"
     ]
    }
   ],
   "source": [
    "class Cafes:\n",
    "    \n",
    "    def __init__(self,name,place):\n",
    "        self.name = name\n",
    "        self.place = place\n",
    "            \n",
    "    #making a method--\n",
    "    def describe_cafe(self):\n",
    "        print(f\"My favourite cafe is-- {self.name}\")\n",
    "        print(f\"The location of the cafe is---{self.place}\")\n",
    "        \n",
    "    #making another method----\n",
    "    def open_cafe(self):\n",
    "        print(f\"{self.name} is open now!\")\n",
    "\n",
    "class IceCreamStand(Cafes):\n",
    "    \n",
    "    def __init__(self,name,place):\n",
    "        super().__init__(name,place)\n",
    "        self.flavors = []\n",
    "    def allFlavors(self):\n",
    "        print(\"\\nWe have all these flavors for you: \")\n",
    "        for i in self.flavors:\n",
    "            print(i)\n",
    "        \n",
    "#make an instance(object) for parent class\n",
    "cafe1 = Cafes(\"North End\",\"Dhanmondi\")\n",
    "\n",
    "#using objects--\n",
    "print(\"Showing our 2 attributes- cafe name & cafe location \\n\")\n",
    "print(f\"Last time we went to- {cafe1.name}.\")\n",
    "print(f\"We reached -{cafe1.place} soon.\\n\")\n",
    "\n",
    "\n",
    "print(\"Calling methods for parent class(Cafes): \\n\")\n",
    "#calling methods---\n",
    "cafe1.describe_cafe()\n",
    "cafe1.open_cafe()\n",
    "\n",
    "#make an instance of IceCreamStand--\n",
    "igloo= IceCreamStand('Igloo',\"Dhanmondi\")\n",
    "igloo.flavors = ['vanila','chocolate','strawberry','kheer','mango']\n",
    "\n",
    "print(\"\\nCalling methods for child class(IceCreamStand): \")\n",
    "igloo.allFlavors()"
   ]
  },
  {
   "cell_type": "markdown",
   "id": "9ffd2cd8",
   "metadata": {},
   "source": [
    "## 9-7: Admin\n",
    "\n",
    "An administrator is a special kind of user. Write a class called `Admin` that inherits from the `User` class you wrote in Exercise 9-3 (page 166) or Exercise 9-5 (page 171). Add an attribute, `privileges`, that stores a list of strings like `\"can add post\"`, `\"can delete post\"`, `\"can ban user\"`, and so on. Write a method called `show_privileges()` that lists the administrator’s set of privileges. Create an instance of `Admin`, and call your method."
   ]
  },
  {
   "cell_type": "code",
   "execution_count": 22,
   "id": "6744fed7",
   "metadata": {},
   "outputs": [
    {
     "name": "stdout",
     "output_type": "stream",
     "text": [
      "The pen I always use-BallPoint\n",
      "\n",
      "The manufacturing company is-Matador\n",
      "\n",
      "My favorite pen is Blue pen\n",
      "\n",
      "The pen is pretty cheap,costs only 5 tk\n",
      "\n",
      "\n",
      "Using Gelpen has always some kind of benefits. They are-\n",
      "Highlights the writings\n",
      "Used to Identify importents points\n",
      "Teachers also like it\n"
     ]
    }
   ],
   "source": [
    "#making the parent class----\n",
    "class Pen:\n",
    "    \n",
    "    def __init__(self,pen_type,maker,color,price):\n",
    "        self.pen_type = pen_type\n",
    "        self.maker = maker\n",
    "        self.color = color\n",
    "        self.price = price\n",
    "    \n",
    "    def describe_pen(self):\n",
    "        print(f\"The pen I always use-{self.pen_type}\\n\")\n",
    "        print(f\"The manufacturing company is-{self.maker}\\n\")\n",
    "        print(f\"My favorite pen is {self.color} pen\\n\")\n",
    "        print(f\"The pen is pretty cheap,costs only {self.price} tk\\n\")\n",
    "    \n",
    "    \n",
    "#making child class--\n",
    "class Gelpen(Pen):\n",
    "     \n",
    "    def __init__(self,pen_type,maker,color,price):\n",
    "        super().__init__(pen_type,maker,color,price)\n",
    "        self.benefits = []\n",
    "    \n",
    "    def show_benefits(self):\n",
    "        print(\"\\nUsing Gelpen has always some kind of benefits. They are-\")\n",
    "        for i in self.benefits:\n",
    "            print(i)\n",
    "            \n",
    "#making object for Pen (Parent Class)--\n",
    "pen1 = Pen(\"BallPoint\",\"Matador\",\"Blue\",5)\n",
    "\n",
    "#calling method for pen1:\n",
    "pen1.describe_pen()\n",
    "\n",
    "#making object for Gelpen(Child Class)---\n",
    "gelpen1 = Gelpen(\"gelpen\",\"Matador\",\"Blue/Green\",10)\n",
    "gelpen1.benefits = [\"Highlights the writings\",\n",
    "                    \"Used to Identify importents points\",\n",
    "                    \"Teachers also like it\"]\n",
    "#calling method for gelpen1 to show the benefits of using gelpens:\n",
    "gelpen1.show_benefits()"
   ]
  },
  {
   "cell_type": "markdown",
   "id": "36c24261",
   "metadata": {},
   "source": [
    "## 9-8: Privileges\n",
    "\n",
    "Write a separate `Privileges` class. The class should have one attribute, `privileges`, that stores a list of strings as described in Exercise 9-7. Move the `show_privileges()` method to this class. Make a `Privileges` instance as an attribute in the `Admin` class. Create a new instance of `Admin` and use your method to show its privileges."
   ]
  },
  {
   "cell_type": "code",
   "execution_count": 41,
   "id": "4a951ec8",
   "metadata": {
    "scrolled": true
   },
   "outputs": [
    {
     "name": "stdout",
     "output_type": "stream",
     "text": [
      "The pen I always use-gelpen\n",
      "\n",
      "The manufacturing company is-Matador\n",
      "\n",
      "My favorite pen is Blue/Green pen\n",
      "\n",
      "The pen is pretty cheap,costs only 10 tk\n",
      "\n",
      "\n",
      "Privileges:\n",
      "- This pen has no benefits.\n",
      "\n",
      "Adding benefits...\n",
      "\n",
      "Privileges:\n",
      "- Highlights the writings\n",
      "- Used to Identify importents points\n",
      "- Teachers also like it\n"
     ]
    }
   ],
   "source": [
    "#making the parent class----\n",
    "class Pen():\n",
    "    \n",
    "    def __init__(self,pen_type,maker,color,price):\n",
    "        self.pen_type = pen_type\n",
    "        self.maker = maker\n",
    "        self.color = color\n",
    "        self.price = price\n",
    "    \n",
    "    def describe_pen(self):\n",
    "        print(f\"The pen I always use-{self.pen_type}\\n\")\n",
    "        print(f\"The manufacturing company is-{self.maker}\\n\")\n",
    "        print(f\"My favorite pen is {self.color} pen\\n\")\n",
    "        print(f\"The pen is pretty cheap,costs only {self.price} tk\\n\")\n",
    "    \n",
    "    \n",
    "#making child class--\n",
    "class Gelpen(Pen):\n",
    "     \n",
    "    def __init__(self,pen_type,maker,color,price):\n",
    "        super().__init__(pen_type,maker,color,price)\n",
    "        self.benefits = Benefits()\n",
    "        \n",
    "class Benefits():\n",
    "    \n",
    "    def __init__(self,benefits=[]):\n",
    "        self.benefits = benefits\n",
    "        \n",
    "    def show_benefits(self):\n",
    "        print(\"\\nPrivileges:\")\n",
    "        if self.benefits:\n",
    "             for i in self.benefits:\n",
    "                print(f\"- {i}\")\n",
    "        else:\n",
    "            print(\"- This pen has no benefits.\")\n",
    "\n",
    "#making object for Pen (Parent Class)--\n",
    "gelpen1 = Gelpen(\"gelpen\",\"Matador\",\"Blue/Green\",10)\n",
    "\n",
    "#calling method for pen1:\n",
    "gelpen1.describe_pen()\n",
    "\n",
    "gelpen1.benefits.show_benefits()\n",
    "\n",
    "print(\"\\nAdding benefits...\")\n",
    "gelpen1_allbenefits = [\"Highlights the writings\",\n",
    "                       \"Used to Identify importents points\",\n",
    "                       \"Teachers also like it\"]\n",
    "gelpen1.benefits.benefits = gelpen1_allbenefits\n",
    "gelpen1.benefits.show_benefits()\n"
   ]
  },
  {
   "cell_type": "markdown",
   "id": "2e6a2213",
   "metadata": {},
   "source": [
    "<h1>Introduction to Polymorphism</h1> One thing can have many forms--Polymorph. To make anything polymorph there is many way out. One of them is--\n",
    "<h2>Duck Typing</h2>"
   ]
  },
  {
   "cell_type": "code",
   "execution_count": 39,
   "id": "2efa7bf6",
   "metadata": {},
   "outputs": [
    {
     "name": "stdout",
     "output_type": "stream",
     "text": [
      "Works\n",
      "Have cells\n"
     ]
    }
   ],
   "source": [
    "class Jupyter:\n",
    "    \n",
    "    def execute(self):\n",
    "        print(\"Works\")\n",
    "        print(\"Have cells\")\n",
    "        \n",
    "class MyEditor:\n",
    "    def execute(self):\n",
    "        print(\"Works\")\n",
    "        print(\"Have cells\")\n",
    "        print(\"Different from all other ide\")\n",
    "        print(\"Never used for C or C++\")\n",
    "\n",
    "class Programming:\n",
    "    \n",
    "    def code(self,ide):\n",
    "        ide.execute()\n",
    "\n",
    "ide = Jupyter()\n",
    "pr1 = Programming()\n",
    "pr1.code(ide)\n",
    "        "
   ]
  },
  {
   "cell_type": "code",
   "execution_count": 40,
   "id": "b2cd9785",
   "metadata": {},
   "outputs": [
    {
     "name": "stdout",
     "output_type": "stream",
     "text": [
      "Works\n",
      "Have cells\n",
      "Different from all other ide\n",
      "Never used for C or C++\n"
     ]
    }
   ],
   "source": [
    "ide = MyEditor()\n",
    "pr2 = Programming()\n",
    "pr2.code(ide)"
   ]
  },
  {
   "cell_type": "markdown",
   "id": "d75bd83b",
   "metadata": {},
   "source": [
    "<h1>Operator Overloading </h1>"
   ]
  },
  {
   "cell_type": "code",
   "execution_count": 42,
   "id": "b664d348",
   "metadata": {},
   "outputs": [
    {
     "name": "stdout",
     "output_type": "stream",
     "text": [
      "30\n",
      "30\n"
     ]
    }
   ],
   "source": [
    "a = 10\n",
    "b = 20\n",
    "print(a+b)\n",
    "print(int.__add__(a,b))"
   ]
  },
  {
   "cell_type": "code",
   "execution_count": 56,
   "id": "dc75ce3c",
   "metadata": {},
   "outputs": [
    {
     "name": "stdout",
     "output_type": "stream",
     "text": [
      "83\n",
      "91\n",
      "Very Good-student2\n",
      "40 50\n",
      "43 41\n"
     ]
    }
   ],
   "source": [
    "class Studentss:\n",
    "    \n",
    "    def __init__(self,mark1,mark2):\n",
    "        self.mark1 =  mark1\n",
    "        self.mark2 = mark2\n",
    "    \n",
    "    def __add__(self,other):\n",
    "        mark1 = self.mark1 + other.mark1\n",
    "        mark2 = self.mark2 + other.mark2\n",
    "        student3 = Studentss(mark1,mark2)\n",
    "        return student3\n",
    "    \n",
    "    def __gt__(self,other):\n",
    "        k1 = self.mark1 + other.mark1\n",
    "        k2 = self.mark2 + other.mark2\n",
    "        if k1>k2:\n",
    "            return True\n",
    "        else:\n",
    "            return False\n",
    "    def __str__(self):\n",
    "        return f\"{self.mark1} {self.mark2}\"\n",
    "    \n",
    "    \n",
    "student1 = Studentss(40,50)\n",
    "student2 = Studentss(43,41)\n",
    "student3 = student1 + student2\n",
    "print(student3.mark1)\n",
    "print(student3.mark2)\n",
    "\n",
    "if student1>student2:\n",
    "    print(\"Very Good-student1\")\n",
    "else:\n",
    "    print(\"Very Good-student2\")\n",
    "    \n",
    "print(student1)\n",
    "print(student2)"
   ]
  }
 ],
 "metadata": {
  "kernelspec": {
   "display_name": "Python 3",
   "language": "python",
   "name": "python3"
  },
  "language_info": {
   "codemirror_mode": {
    "name": "ipython",
    "version": 3
   },
   "file_extension": ".py",
   "mimetype": "text/x-python",
   "name": "python",
   "nbconvert_exporter": "python",
   "pygments_lexer": "ipython3",
   "version": "3.8.8"
  }
 },
 "nbformat": 4,
 "nbformat_minor": 5
}
